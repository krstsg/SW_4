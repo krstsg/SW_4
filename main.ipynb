{
 "cells": [
  {
   "cell_type": "code",
   "execution_count": 1,
   "metadata": {},
   "outputs": [],
   "source": [
    "from rdflib import Graph"
   ]
  },
  {
   "cell_type": "code",
   "execution_count": 2,
   "metadata": {},
   "outputs": [
    {
     "data": {
      "text/plain": [
       "<Graph identifier=N706f98d7115b4fb790ba8b2665b6c6e3 (<class 'rdflib.graph.Graph'>)>"
      ]
     },
     "execution_count": 2,
     "metadata": {},
     "output_type": "execute_result"
    }
   ],
   "source": [
    "g = Graph()\n",
    "g.parse(\"output.ttl\")"
   ]
  },
  {
   "cell_type": "code",
   "execution_count": 3,
   "metadata": {},
   "outputs": [],
   "source": [
    "def exec_query(query):\n",
    "    [print(result[0]) for result in g.query(query)]"
   ]
  },
  {
   "cell_type": "code",
   "execution_count": 4,
   "metadata": {},
   "outputs": [
    {
     "name": "stdout",
     "output_type": "stream",
     "text": [
      "76\n"
     ]
    }
   ],
   "source": [
    "# вивести загальну кількість триплетів;\n",
    "exec_query('''\n",
    "    SELECT (COUNT(?s) AS ?triples)\n",
    "    WHERE {\n",
    "        ?s ?p ?o.\n",
    "    }\n",
    "''')"
   ]
  },
  {
   "cell_type": "code",
   "execution_count": 5,
   "metadata": {},
   "outputs": [
    {
     "name": "stdout",
     "output_type": "stream",
     "text": [
      "Холодильник Samsung RB38T676FB1/UA\n"
     ]
    }
   ],
   "source": [
    "# вивести назву одного ресурсу (dc:title);\n",
    "exec_query('''\n",
    "    SELECT ?title\n",
    "    WHERE { \n",
    "        ?resource dc:title ?title \n",
    "    } \n",
    "    LIMIT 1\n",
    "''')"
   ]
  },
  {
   "cell_type": "code",
   "execution_count": 6,
   "metadata": {},
   "outputs": [
    {
     "name": "stdout",
     "output_type": "stream",
     "text": [
      "https://comfy.ua/ua/noutbuk-hp-250-g8-45s01es-silver.html\n"
     ]
    }
   ],
   "source": [
    "# вивести список всіх ресурсів одного складного класу;\n",
    "exec_query('''\n",
    "    SELECT $resource \n",
    "    WHERE { $resource a sch:Laptop }\n",
    "''')"
   ]
  },
  {
   "cell_type": "code",
   "execution_count": 7,
   "metadata": {},
   "outputs": [
    {
     "name": "stdout",
     "output_type": "stream",
     "text": [
      "4.9\n",
      "4.9\n",
      "4.7\n",
      "4.7\n",
      "4.8\n"
     ]
    }
   ],
   "source": [
    "# вивести інформацію за однією із характеристик для всіх описаних ресурсів;\n",
    "exec_query('''\n",
    "    SELECT ?rating\n",
    "    WHERE { ?resource sch:rating ?rating }\n",
    "''')"
   ]
  },
  {
   "cell_type": "code",
   "execution_count": 8,
   "metadata": {},
   "outputs": [
    {
     "name": "stdout",
     "output_type": "stream",
     "text": [
      "https://comfy.ua/schema#Laptop\n",
      "https://comfy.ua/schema#Refrigerator\n",
      "https://comfy.ua/schema#Smartphone\n",
      "https://comfy.ua/schema#TV\n",
      "https://comfy.ua/schema#Washing_machine\n"
     ]
    }
   ],
   "source": [
    "# вивести назви всіх підкласів для базового класу;\n",
    "exec_query('''\n",
    "    SELECT ?subclass \n",
    "    WHERE { ?subclass rdfs:subClassOf sch:Product }\n",
    "''')"
   ]
  },
  {
   "cell_type": "code",
   "execution_count": 9,
   "metadata": {},
   "outputs": [],
   "source": [
    "# додати 2 довільних SPARQL-запита."
   ]
  },
  {
   "cell_type": "code",
   "execution_count": 10,
   "metadata": {},
   "outputs": [
    {
     "name": "stdout",
     "output_type": "stream",
     "text": [
      "https://comfy.ua/ua/holodil-nik-samsung-rb38t676fb1-ua.html\n",
      "https://comfy.ua/ua/televizor-samsung-ue43bu8000uxua.html\n"
     ]
    }
   ],
   "source": [
    "# вивести всі ресурси у яких нова ціна більше 20000\n",
    "exec_query('''\n",
    "    SELECT ?subject\n",
    "    WHERE { \n",
    "        ?subject sch:price_new ?price_new.\n",
    "        FILTER(?price_new > 20000)\n",
    "    }\n",
    "''')"
   ]
  },
  {
   "cell_type": "code",
   "execution_count": 33,
   "metadata": {},
   "outputs": [
    {
     "name": "stdout",
     "output_type": "stream",
     "text": [
      "Холодильник Samsung RB38T676FB1/UA\n",
      "Телевізор Samsung UE43BU8000UXUA\n",
      "Смартфон Samsung Galaxy M33 5G 6/128Gb Green (SM-M336BZGGSEK)\n",
      "Пральна машина Whirlpool WRBSB 6228 B UA\n",
      "Ноутбук HP 250 G8 (45S01ES) Silver\n"
     ]
    }
   ],
   "source": [
    "# вивести всі dc:title ресурси по спаданню\n",
    "exec_query('''\n",
    "    SELECT ?title\n",
    "    WHERE { ?resource dc:title ?title } \n",
    "    ORDER BY DESC(?title)\n",
    "''')"
   ]
  }
 ],
 "metadata": {
  "kernelspec": {
   "display_name": "Python 3.9.13 64-bit",
   "language": "python",
   "name": "python3"
  },
  "language_info": {
   "codemirror_mode": {
    "name": "ipython",
    "version": 3
   },
   "file_extension": ".py",
   "mimetype": "text/x-python",
   "name": "python",
   "nbconvert_exporter": "python",
   "pygments_lexer": "ipython3",
   "version": "3.9.13"
  },
  "orig_nbformat": 4,
  "vscode": {
   "interpreter": {
    "hash": "dced6d19ca7d5e68fbec81575ed1d988021920b9aa5e810af87da6b2abc72fda"
   }
  }
 },
 "nbformat": 4,
 "nbformat_minor": 2
}
